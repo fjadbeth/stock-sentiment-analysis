{
 "cells": [
  {
   "cell_type": "markdown",
   "id": "df919f5c-d523-4c2b-a978-064647981238",
   "metadata": {},
   "source": []
  },
  {
   "cell_type": "code",
   "execution_count": 2,
   "id": "3ea4ca04-8620-4b59-8f25-09de2b6b965a",
   "metadata": {},
   "outputs": [
    {
     "name": "stdout",
     "output_type": "stream",
     "text": [
      "No filing_date for META on 2010-12-31\n",
      "No filing_date for AVGO on 2007-10-31\n",
      "No filing_date for UNH on 2006-09-30\n",
      "No filing_date for UNH on 2006-06-30\n",
      "No filing_date for UNH on 2001-12-31\n",
      "No filing_date for JNJ on 1998-12-31\n",
      "No filing_date for ABBV on 2010-12-31\n",
      "No filing_date for CRM on 2003-01-31\n",
      "No filing_date for ACN on 2001-08-31\n",
      "No filing_date for ACN on 2001-05-31\n",
      "No filing_date for ACN on 2001-02-28\n",
      "No filing_date for ACN on 2000-08-31\n",
      "Updated CSV saved as 'data/merged_pe_roe_updated.csv' with 'Reported_Date' added.\n"
     ]
    }
   ],
   "source": [
    "import pandas as pd\n",
    "import requests\n",
    "\n",
    "# Configuration\n",
    "API_KEY = \"603eafd117ce29.12741264\"  # Your EODHD API key\n",
    "tickers = [\n",
    "    \"AAPL\", \"MSFT\", \"NVDA\", \"GOOGL\", \"AMZN\", \"META\", \"BRK-B\", \"AVGO\", \"TSLA\", \"LLY\", \n",
    "    \"WMT\", \"JPM\", \"V\", \"MA\", \"XOM\", \"COST\", \"UNH\", \"HD\", \"PG\", \"JNJ\", \"ABBV\", \"CRM\", \n",
    "    \"BAC\", \"ORCL\", \"MRK\", \"CVX\", \"WFC\", \"KO\", \"CSCO\", \"ACN\"\n",
    "]\n",
    "\n",
    "# Load your CSV\n",
    "df = pd.read_csv('data/merged_pe_roe.csv')\n",
    "\n",
    "# Ensure dates are in 'YYYY-MM-DD' string format (matching API keys)\n",
    "df['Date'] = pd.to_datetime(df['Date']).dt.strftime('%Y-%m-%d')\n",
    "\n",
    "# Replace 'BRK.B' with 'BRK-B' in the DataFrame for consistency\n",
    "df['Ticker'] = df['Ticker'].replace('BRK.B', 'BRK-B')\n",
    "\n",
    "# Replace 'BRK.B' with 'BRK-B' in the tickers list for API calls\n",
    "tickers = [ticker.replace('BRK.B', 'BRK-B') for ticker in tickers]\n",
    "\n",
    "# Function to fetch filing dates from the Fundamental API\n",
    "def fetch_filing_dates(tickers):\n",
    "    filing_date_mapping = {}\n",
    "    for ticker in tickers:\n",
    "        try:\n",
    "            # Use the corrected ticker format with .US suffix\n",
    "            url = f\"https://eodhd.com/api/fundamentals/{ticker}.US?api_token={API_KEY}&fmt=json\"\n",
    "            response = requests.get(url)\n",
    "            response.raise_for_status()  # Raise an error for failed requests\n",
    "            data = response.json()\n",
    "            # Navigate to quarterly balance sheet data\n",
    "            quarterly = data.get('Financials', {}).get('Balance_Sheet', {}).get('quarterly', {})\n",
    "            for date_key, report in quarterly.items():\n",
    "                filing_date = report.get('filing_date')\n",
    "                if filing_date:\n",
    "                    filing_date_mapping[(ticker, date_key)] = filing_date\n",
    "                else:\n",
    "                    print(f\"No filing_date for {ticker} on {date_key}\")\n",
    "        except requests.RequestException as e:\n",
    "            print(f\"Error fetching data for {ticker}: {e}\")\n",
    "    return filing_date_mapping\n",
    "\n",
    "# Fetch filing dates\n",
    "filing_date_mapping = fetch_filing_dates(tickers)\n",
    "\n",
    "# Add Reported_Date column\n",
    "df['Reported_Date'] = df.apply(\n",
    "    lambda row: filing_date_mapping.get((row['Ticker'], row['Date']), None), axis=1\n",
    ")\n",
    "\n",
    "# Save the updated CSV\n",
    "output_file = 'data/merged_pe_roe_updated.csv'\n",
    "df.to_csv(output_file, index=False)\n",
    "\n",
    "print(f\"Updated CSV saved as '{output_file}' with 'Reported_Date' added.\")"
   ]
  }
 ],
 "metadata": {
  "kernelspec": {
   "display_name": "IDAS Python 3.10",
   "language": "python",
   "name": "python3"
  },
  "language_info": {
   "codemirror_mode": {
    "name": "ipython",
    "version": 3
   },
   "file_extension": ".py",
   "mimetype": "text/x-python",
   "name": "python",
   "nbconvert_exporter": "python",
   "pygments_lexer": "ipython3",
   "version": "3.10.8"
  }
 },
 "nbformat": 4,
 "nbformat_minor": 5
}

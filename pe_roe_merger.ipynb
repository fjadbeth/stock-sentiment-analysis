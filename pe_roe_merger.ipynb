{
 "cells": [
  {
   "cell_type": "code",
   "execution_count": 1,
   "id": "e450b699-d7ce-4dbd-92ca-77cfdafbc236",
   "metadata": {},
   "outputs": [
    {
     "name": "stdout",
     "output_type": "stream",
     "text": [
      "Merged data saved to 'merged_pe_roe.csv'\n",
      "Total rows in merged data: 1808\n",
      "Unique tickers in merged data: 30\n",
      "\n",
      "Sample of merged data:\n",
      "  Ticker       Date  Stock_Price    EPS  PE_Ratio Net_Income  \\\n",
      "0   AAPL 2024-12-31       250.15  $6.30     39.71    $96.15B   \n",
      "1   AAPL 2024-09-30       232.49  $6.08     38.24    $93.74B   \n",
      "2   AAPL 2024-06-30       209.92  $6.57     31.95   $101.96B   \n",
      "3   AAPL 2024-03-31       170.67  $6.43     26.54   $100.39B   \n",
      "4   AAPL 2023-12-31       191.38  $6.42     29.81   $100.91B   \n",
      "\n",
      "  Shareholder_Equity      ROE  \n",
      "0            $66.76B  145.35%  \n",
      "1            $56.95B  137.87%  \n",
      "2            $66.71B  147.15%  \n",
      "3            $74.19B  148.33%  \n",
      "4            $74.10B  156.04%  \n"
     ]
    }
   ],
   "source": [
    "import pandas as pd\n",
    "\n",
    "# Load the CSV files\n",
    "pe_data = pd.read_csv('data/pe_ratios.csv')\n",
    "roe_data = pd.read_csv('data/roe_data.csv')\n",
    "\n",
    "# Ensure Date columns are in datetime format for consistent merging\n",
    "pe_data['Date'] = pd.to_datetime(pe_data['Date'])\n",
    "roe_data['Date'] = pd.to_datetime(roe_data['Date'])\n",
    "\n",
    "# Merge the DataFrames on Ticker and Date using an inner join\n",
    "merged_data = pd.merge(\n",
    "    pe_data,\n",
    "    roe_data,\n",
    "    on=['Ticker', 'Date'],\n",
    "    how='inner'  # Change to 'left', 'right', or 'outer' if needed\n",
    ")\n",
    "\n",
    "# Save the merged DataFrame to a new CSV file\n",
    "merged_data.to_csv('merged_pe_roe.csv', index=False)\n",
    "print(\"Merged data saved to 'merged_pe_roe.csv'\")\n",
    "print(f\"Total rows in merged data: {len(merged_data)}\")\n",
    "print(f\"Unique tickers in merged data: {merged_data['Ticker'].nunique()}\")\n",
    "\n",
    "# Display the first few rows of the merged data\n",
    "print(\"\\nSample of merged data:\")\n",
    "print(merged_data.head())\n",
    "\n",
    "# Check for missing matches\n",
    "if len(merged_data) == 0:\n",
    "    print(\"\\nWarning: No matches found. Checking date overlaps...\")\n",
    "    pe_dates = set(pe_data['Date'])\n",
    "    roe_dates = set(roe_data['Date'])\n",
    "    common_dates = pe_dates.intersection(roe_dates)\n",
    "    print(f\"Common dates between PE and ROE data: {len(common_dates)}\")\n",
    "    if common_dates:\n",
    "        print(f\"Sample common dates: {list(common_dates)[:5]}\")\n",
    "    else:\n",
    "        print(\"No common dates found. Verify date alignment between files.\")"
   ]
  }
 ],
 "metadata": {
  "kernelspec": {
   "display_name": "IDAS Python 3.10",
   "language": "python",
   "name": "python3"
  },
  "language_info": {
   "codemirror_mode": {
    "name": "ipython",
    "version": 3
   },
   "file_extension": ".py",
   "mimetype": "text/x-python",
   "name": "python",
   "nbconvert_exporter": "python",
   "pygments_lexer": "ipython3",
   "version": "3.10.8"
  }
 },
 "nbformat": 4,
 "nbformat_minor": 5
}

{
 "cells": [
  {
   "cell_type": "code",
   "execution_count": 1,
   "id": "f40011c3-1daf-4577-80b1-b58c9fa88e1d",
   "metadata": {},
   "outputs": [
    {
     "name": "stdout",
     "output_type": "stream",
     "text": [
      "Saved time series data for AAPL to data/AAPL_2023_24.csv\n",
      "Saved time series data for MSFT to data/MSFT_2023_24.csv\n",
      "Saved time series data for NVDA to data/NVDA_2023_24.csv\n",
      "Saved time series data for GOOGL to data/GOOGL_2023_24.csv\n",
      "Saved time series data for AMZN to data/AMZN_2023_24.csv\n",
      "Saved time series data for META to data/META_2023_24.csv\n",
      "Saved time series data for BRK-B to data/BRK-B_2023_24.csv\n",
      "Saved time series data for AVGO to data/AVGO_2023_24.csv\n",
      "Saved time series data for TSLA to data/TSLA_2023_24.csv\n",
      "Saved time series data for LLY to data/LLY_2023_24.csv\n",
      "Saved time series data for WMT to data/WMT_2023_24.csv\n",
      "Saved time series data for JPM to data/JPM_2023_24.csv\n",
      "Saved time series data for V to data/V_2023_24.csv\n",
      "Saved time series data for MA to data/MA_2023_24.csv\n",
      "Saved time series data for XOM to data/XOM_2023_24.csv\n",
      "Saved time series data for COST to data/COST_2023_24.csv\n",
      "Saved time series data for UNH to data/UNH_2023_24.csv\n",
      "Saved time series data for HD to data/HD_2023_24.csv\n",
      "Saved time series data for PG to data/PG_2023_24.csv\n",
      "Saved time series data for JNJ to data/JNJ_2023_24.csv\n",
      "Saved time series data for ABBV to data/ABBV_2023_24.csv\n",
      "Saved time series data for CRM to data/CRM_2023_24.csv\n",
      "Saved time series data for BAC to data/BAC_2023_24.csv\n",
      "Saved time series data for ORCL to data/ORCL_2023_24.csv\n",
      "Saved time series data for MRK to data/MRK_2023_24.csv\n",
      "Saved time series data for CVX to data/CVX_2023_24.csv\n",
      "Saved time series data for WFC to data/WFC_2023_24.csv\n",
      "Saved time series data for KO to data/KO_2023_24.csv\n",
      "Saved time series data for CSCO to data/CSCO_2023_24.csv\n",
      "Saved time series data for ACN to data/ACN_2023_24.csv\n"
     ]
    }
   ],
   "source": [
    "import pandas as pd\n",
    "\n",
    "# Load the data\n",
    "df = pd.read_csv('data/merged_pe_roe_updated.csv')\n",
    "\n",
    "# Convert Reported_Date to datetime, coercing errors to NaT\n",
    "df['Reported_Date'] = pd.to_datetime(df['Reported_Date'], errors='coerce')\n",
    "\n",
    "# Drop rows where Reported_Date is null (NaT)\n",
    "df = df.dropna(subset=['Reported_Date'])\n",
    "\n",
    "# Generate daily date range from 2023-01-01 to 2024-12-31\n",
    "daily_dates = pd.date_range(start='2023-01-01', end='2024-12-31', freq='D')\n",
    "daily_df = pd.DataFrame({'Date': daily_dates})\n",
    "\n",
    "# Get unique tickers\n",
    "tickers = df['Ticker'].unique()\n",
    "\n",
    "for ticker in tickers:\n",
    "    # Filter data for the current ticker and ensure no null Reported_Date\n",
    "    ticker_df = df[df['Ticker'] == ticker][['Reported_Date', 'PE_Ratio', 'ROE']]\n",
    "    ticker_df = ticker_df.dropna(subset=['Reported_Date'])  # Double-check for nulls\n",
    "    \n",
    "    # If no valid data remains after dropping nulls, skip this ticker\n",
    "    if ticker_df.empty:\n",
    "        print(f\"No valid data for {ticker} after removing null Reported_Date.\")\n",
    "        continue\n",
    "    \n",
    "    # Sort by Reported_Date for merge_asof\n",
    "    ticker_df = ticker_df.sort_values('Reported_Date')\n",
    "    \n",
    "    # Perform the merge with daily dates\n",
    "    merged_df = pd.merge_asof(\n",
    "        daily_df.sort_values('Date'),\n",
    "        ticker_df,\n",
    "        left_on='Date',\n",
    "        right_on='Reported_Date',\n",
    "        direction='backward'\n",
    "    )\n",
    "    \n",
    "    # Select relevant columns\n",
    "    result_df = merged_df[['Date', 'PE_Ratio', 'ROE']]\n",
    "    \n",
    "    # Save the result to a CSV file\n",
    "    result_df.to_csv(f'data/{ticker}_2023_24.csv', index=False)\n",
    "    print(f\"Saved time series data for {ticker} to data/{ticker}_2023_24.csv\")"
   ]
  }
 ],
 "metadata": {
  "kernelspec": {
   "display_name": "IDAS Python 3.10",
   "language": "python",
   "name": "python3"
  },
  "language_info": {
   "codemirror_mode": {
    "name": "ipython",
    "version": 3
   },
   "file_extension": ".py",
   "mimetype": "text/x-python",
   "name": "python",
   "nbconvert_exporter": "python",
   "pygments_lexer": "ipython3",
   "version": "3.10.8"
  }
 },
 "nbformat": 4,
 "nbformat_minor": 5
}
